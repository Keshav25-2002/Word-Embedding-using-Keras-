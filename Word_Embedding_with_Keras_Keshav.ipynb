{
  "nbformat": 4,
  "nbformat_minor": 0,
  "metadata": {
    "colab": {
      "provenance": [],
      "collapsed_sections": []
    },
    "kernelspec": {
      "name": "python3",
      "display_name": "Python 3"
    },
    "language_info": {
      "name": "python"
    }
  },
  "cells": [
    {
      "cell_type": "code",
      "execution_count": 1,
      "metadata": {
        "colab": {
          "base_uri": "https://localhost:8080/"
        },
        "id": "Rx9e45J0zbZi",
        "outputId": "ba7741b8-21e2-4a96-fc33-b61ae2b717e8"
      },
      "outputs": [
        {
          "output_type": "stream",
          "name": "stdout",
          "text": [
            "Looking in indexes: https://pypi.org/simple, https://us-python.pkg.dev/colab-wheels/public/simple/\n",
            "Requirement already satisfied: tensorflow in /usr/local/lib/python3.7/dist-packages (2.8.2+zzzcolab20220719082949)\n",
            "Requirement already satisfied: tensorboard<2.9,>=2.8 in /usr/local/lib/python3.7/dist-packages (from tensorflow) (2.8.0)\n",
            "Requirement already satisfied: astunparse>=1.6.0 in /usr/local/lib/python3.7/dist-packages (from tensorflow) (1.6.3)\n",
            "Requirement already satisfied: numpy>=1.20 in /usr/local/lib/python3.7/dist-packages (from tensorflow) (1.21.6)\n",
            "Requirement already satisfied: keras<2.9,>=2.8.0rc0 in /usr/local/lib/python3.7/dist-packages (from tensorflow) (2.8.0)\n",
            "Requirement already satisfied: gast>=0.2.1 in /usr/local/lib/python3.7/dist-packages (from tensorflow) (0.5.3)\n",
            "Requirement already satisfied: opt-einsum>=2.3.2 in /usr/local/lib/python3.7/dist-packages (from tensorflow) (3.3.0)\n",
            "Requirement already satisfied: typing-extensions>=3.6.6 in /usr/local/lib/python3.7/dist-packages (from tensorflow) (4.1.1)\n",
            "Requirement already satisfied: six>=1.12.0 in /usr/local/lib/python3.7/dist-packages (from tensorflow) (1.15.0)\n",
            "Requirement already satisfied: tensorflow-estimator<2.9,>=2.8 in /usr/local/lib/python3.7/dist-packages (from tensorflow) (2.8.0)\n",
            "Requirement already satisfied: libclang>=9.0.1 in /usr/local/lib/python3.7/dist-packages (from tensorflow) (14.0.6)\n",
            "Requirement already satisfied: setuptools in /usr/local/lib/python3.7/dist-packages (from tensorflow) (57.4.0)\n",
            "Requirement already satisfied: wrapt>=1.11.0 in /usr/local/lib/python3.7/dist-packages (from tensorflow) (1.14.1)\n",
            "Requirement already satisfied: google-pasta>=0.1.1 in /usr/local/lib/python3.7/dist-packages (from tensorflow) (0.2.0)\n",
            "Requirement already satisfied: keras-preprocessing>=1.1.1 in /usr/local/lib/python3.7/dist-packages (from tensorflow) (1.1.2)\n",
            "Requirement already satisfied: tensorflow-io-gcs-filesystem>=0.23.1 in /usr/local/lib/python3.7/dist-packages (from tensorflow) (0.26.0)\n",
            "Requirement already satisfied: termcolor>=1.1.0 in /usr/local/lib/python3.7/dist-packages (from tensorflow) (1.1.0)\n",
            "Requirement already satisfied: grpcio<2.0,>=1.24.3 in /usr/local/lib/python3.7/dist-packages (from tensorflow) (1.47.0)\n",
            "Requirement already satisfied: absl-py>=0.4.0 in /usr/local/lib/python3.7/dist-packages (from tensorflow) (1.2.0)\n",
            "Requirement already satisfied: h5py>=2.9.0 in /usr/local/lib/python3.7/dist-packages (from tensorflow) (3.1.0)\n",
            "Requirement already satisfied: protobuf<3.20,>=3.9.2 in /usr/local/lib/python3.7/dist-packages (from tensorflow) (3.17.3)\n",
            "Requirement already satisfied: flatbuffers>=1.12 in /usr/local/lib/python3.7/dist-packages (from tensorflow) (2.0.7)\n",
            "Requirement already satisfied: wheel<1.0,>=0.23.0 in /usr/local/lib/python3.7/dist-packages (from astunparse>=1.6.0->tensorflow) (0.37.1)\n",
            "Requirement already satisfied: cached-property in /usr/local/lib/python3.7/dist-packages (from h5py>=2.9.0->tensorflow) (1.5.2)\n",
            "Requirement already satisfied: tensorboard-data-server<0.7.0,>=0.6.0 in /usr/local/lib/python3.7/dist-packages (from tensorboard<2.9,>=2.8->tensorflow) (0.6.1)\n",
            "Requirement already satisfied: markdown>=2.6.8 in /usr/local/lib/python3.7/dist-packages (from tensorboard<2.9,>=2.8->tensorflow) (3.4.1)\n",
            "Requirement already satisfied: requests<3,>=2.21.0 in /usr/local/lib/python3.7/dist-packages (from tensorboard<2.9,>=2.8->tensorflow) (2.23.0)\n",
            "Requirement already satisfied: google-auth-oauthlib<0.5,>=0.4.1 in /usr/local/lib/python3.7/dist-packages (from tensorboard<2.9,>=2.8->tensorflow) (0.4.6)\n",
            "Requirement already satisfied: werkzeug>=0.11.15 in /usr/local/lib/python3.7/dist-packages (from tensorboard<2.9,>=2.8->tensorflow) (1.0.1)\n",
            "Requirement already satisfied: tensorboard-plugin-wit>=1.6.0 in /usr/local/lib/python3.7/dist-packages (from tensorboard<2.9,>=2.8->tensorflow) (1.8.1)\n",
            "Requirement already satisfied: google-auth<3,>=1.6.3 in /usr/local/lib/python3.7/dist-packages (from tensorboard<2.9,>=2.8->tensorflow) (1.35.0)\n",
            "Requirement already satisfied: pyasn1-modules>=0.2.1 in /usr/local/lib/python3.7/dist-packages (from google-auth<3,>=1.6.3->tensorboard<2.9,>=2.8->tensorflow) (0.2.8)\n",
            "Requirement already satisfied: cachetools<5.0,>=2.0.0 in /usr/local/lib/python3.7/dist-packages (from google-auth<3,>=1.6.3->tensorboard<2.9,>=2.8->tensorflow) (4.2.4)\n",
            "Requirement already satisfied: rsa<5,>=3.1.4 in /usr/local/lib/python3.7/dist-packages (from google-auth<3,>=1.6.3->tensorboard<2.9,>=2.8->tensorflow) (4.9)\n",
            "Requirement already satisfied: requests-oauthlib>=0.7.0 in /usr/local/lib/python3.7/dist-packages (from google-auth-oauthlib<0.5,>=0.4.1->tensorboard<2.9,>=2.8->tensorflow) (1.3.1)\n",
            "Requirement already satisfied: importlib-metadata>=4.4 in /usr/local/lib/python3.7/dist-packages (from markdown>=2.6.8->tensorboard<2.9,>=2.8->tensorflow) (4.12.0)\n",
            "Requirement already satisfied: zipp>=0.5 in /usr/local/lib/python3.7/dist-packages (from importlib-metadata>=4.4->markdown>=2.6.8->tensorboard<2.9,>=2.8->tensorflow) (3.8.1)\n",
            "Requirement already satisfied: pyasn1<0.5.0,>=0.4.6 in /usr/local/lib/python3.7/dist-packages (from pyasn1-modules>=0.2.1->google-auth<3,>=1.6.3->tensorboard<2.9,>=2.8->tensorflow) (0.4.8)\n",
            "Requirement already satisfied: certifi>=2017.4.17 in /usr/local/lib/python3.7/dist-packages (from requests<3,>=2.21.0->tensorboard<2.9,>=2.8->tensorflow) (2022.6.15)\n",
            "Requirement already satisfied: chardet<4,>=3.0.2 in /usr/local/lib/python3.7/dist-packages (from requests<3,>=2.21.0->tensorboard<2.9,>=2.8->tensorflow) (3.0.4)\n",
            "Requirement already satisfied: idna<3,>=2.5 in /usr/local/lib/python3.7/dist-packages (from requests<3,>=2.21.0->tensorboard<2.9,>=2.8->tensorflow) (2.10)\n",
            "Requirement already satisfied: urllib3!=1.25.0,!=1.25.1,<1.26,>=1.21.1 in /usr/local/lib/python3.7/dist-packages (from requests<3,>=2.21.0->tensorboard<2.9,>=2.8->tensorflow) (1.24.3)\n",
            "Requirement already satisfied: oauthlib>=3.0.0 in /usr/local/lib/python3.7/dist-packages (from requests-oauthlib>=0.7.0->google-auth-oauthlib<0.5,>=0.4.1->tensorboard<2.9,>=2.8->tensorflow) (3.2.0)\n"
          ]
        }
      ],
      "source": [
        "pip install tensorflow"
      ]
    },
    {
      "cell_type": "code",
      "source": [
        "pip install keras"
      ],
      "metadata": {
        "colab": {
          "base_uri": "https://localhost:8080/"
        },
        "id": "g1hM62OCz-NA",
        "outputId": "98a76095-fb21-4756-8cdc-510895196f18"
      },
      "execution_count": 2,
      "outputs": [
        {
          "output_type": "stream",
          "name": "stdout",
          "text": [
            "Looking in indexes: https://pypi.org/simple, https://us-python.pkg.dev/colab-wheels/public/simple/\n",
            "Requirement already satisfied: keras in /usr/local/lib/python3.7/dist-packages (2.8.0)\n"
          ]
        }
      ]
    },
    {
      "cell_type": "code",
      "source": [
        "from tensorflow.keras.preprocessing.text import one_hot\n"
      ],
      "metadata": {
        "id": "czEC5KaP0ALj"
      },
      "execution_count": 3,
      "outputs": []
    },
    {
      "cell_type": "code",
      "source": [
        "sent=[  'the glass of milk',\n",
        "     'the glass of juice',\n",
        "     'the cup of tea',\n",
        "    'I am a good boy',\n",
        "     'I am a good developer',\n",
        "     'understand the meaning of words',\n",
        "     'your videos are good',]"
      ],
      "metadata": {
        "id": "kR50boGM0G2q"
      },
      "execution_count": 4,
      "outputs": []
    },
    {
      "cell_type": "code",
      "source": [
        "sent"
      ],
      "metadata": {
        "colab": {
          "base_uri": "https://localhost:8080/"
        },
        "id": "zQlJ-Ua20KF-",
        "outputId": "c6e324d2-7026-4002-e521-8f7f7074a942"
      },
      "execution_count": 5,
      "outputs": [
        {
          "output_type": "execute_result",
          "data": {
            "text/plain": [
              "['the glass of milk',\n",
              " 'the glass of juice',\n",
              " 'the cup of tea',\n",
              " 'I am a good boy',\n",
              " 'I am a good developer',\n",
              " 'understand the meaning of words',\n",
              " 'your videos are good']"
            ]
          },
          "metadata": {},
          "execution_count": 5
        }
      ]
    },
    {
      "cell_type": "code",
      "source": [
        "### Vocabulary size\n",
        "voc_size=10000"
      ],
      "metadata": {
        "id": "o5eFaGU30Mup"
      },
      "execution_count": 6,
      "outputs": []
    },
    {
      "cell_type": "code",
      "source": [
        "#one hot representation \n",
        "onehot_repr=[one_hot(words,voc_size)for words in sent] \n",
        "print(onehot_repr)"
      ],
      "metadata": {
        "colab": {
          "base_uri": "https://localhost:8080/"
        },
        "id": "qOaiujpg0Td1",
        "outputId": "204848c1-14f5-45eb-a3dc-57a104d8b37f"
      },
      "execution_count": 7,
      "outputs": [
        {
          "output_type": "stream",
          "name": "stdout",
          "text": [
            "[[3221, 1753, 9368, 9141], [3221, 1753, 9368, 9281], [3221, 6406, 9368, 6270], [8143, 324, 7766, 910, 5365], [8143, 324, 7766, 910, 2957], [3963, 3221, 8215, 9368, 6016], [934, 6044, 895, 910]]\n"
          ]
        }
      ]
    },
    {
      "cell_type": "code",
      "source": [
        "#word embedding representation \n",
        "from tensorflow.keras.layers import Embedding\n",
        "from tensorflow.keras.preprocessing.sequence import pad_sequences\n",
        "from tensorflow.keras.models import Sequential"
      ],
      "metadata": {
        "id": "-n-nslto0Xkp"
      },
      "execution_count": 8,
      "outputs": []
    },
    {
      "cell_type": "code",
      "source": [
        "sent_length=8\n",
        "embedded_docs=pad_sequences(onehot_repr,padding='pre',maxlen=sent_length)\n",
        "print(embedded_docs)"
      ],
      "metadata": {
        "colab": {
          "base_uri": "https://localhost:8080/"
        },
        "id": "t1gIy8VV0bvo",
        "outputId": "647469e5-ffdb-4993-9c8b-dc633fcd041a"
      },
      "execution_count": 9,
      "outputs": [
        {
          "output_type": "stream",
          "name": "stdout",
          "text": [
            "[[   0    0    0    0 3221 1753 9368 9141]\n",
            " [   0    0    0    0 3221 1753 9368 9281]\n",
            " [   0    0    0    0 3221 6406 9368 6270]\n",
            " [   0    0    0 8143  324 7766  910 5365]\n",
            " [   0    0    0 8143  324 7766  910 2957]\n",
            " [   0    0    0 3963 3221 8215 9368 6016]\n",
            " [   0    0    0    0  934 6044  895  910]]\n"
          ]
        }
      ]
    },
    {
      "cell_type": "code",
      "source": [
        "dim=10"
      ],
      "metadata": {
        "id": "E6CO73o50ec4"
      },
      "execution_count": 10,
      "outputs": []
    },
    {
      "cell_type": "code",
      "source": [
        "model=Sequential()\n",
        "model.add(Embedding(voc_size,10,input_length=sent_length))\n",
        "model.compile('adam','mse')"
      ],
      "metadata": {
        "id": "AWTXWY3t0id2"
      },
      "execution_count": 11,
      "outputs": []
    },
    {
      "cell_type": "code",
      "source": [
        "model.summary()"
      ],
      "metadata": {
        "colab": {
          "base_uri": "https://localhost:8080/"
        },
        "id": "ovP2RkEr0kNL",
        "outputId": "a17f0479-81c0-4b62-cf63-4a6dac921418"
      },
      "execution_count": 12,
      "outputs": [
        {
          "output_type": "stream",
          "name": "stdout",
          "text": [
            "Model: \"sequential\"\n",
            "_________________________________________________________________\n",
            " Layer (type)                Output Shape              Param #   \n",
            "=================================================================\n",
            " embedding (Embedding)       (None, 8, 10)             100000    \n",
            "                                                                 \n",
            "=================================================================\n",
            "Total params: 100,000\n",
            "Trainable params: 100,000\n",
            "Non-trainable params: 0\n",
            "_________________________________________________________________\n"
          ]
        }
      ]
    },
    {
      "cell_type": "code",
      "source": [
        "print(model.predict(embedded_docs))"
      ],
      "metadata": {
        "colab": {
          "base_uri": "https://localhost:8080/"
        },
        "id": "MS9YDj0s0l9I",
        "outputId": "db33ba27-c0d0-45aa-ad33-8ba629aeacef"
      },
      "execution_count": 13,
      "outputs": [
        {
          "output_type": "stream",
          "name": "stdout",
          "text": [
            "[[[-0.01586975 -0.00314847 -0.01452791 -0.03147782  0.02221903\n",
            "    0.00964294  0.02066569 -0.04676019 -0.00690677 -0.01320447]\n",
            "  [-0.01586975 -0.00314847 -0.01452791 -0.03147782  0.02221903\n",
            "    0.00964294  0.02066569 -0.04676019 -0.00690677 -0.01320447]\n",
            "  [-0.01586975 -0.00314847 -0.01452791 -0.03147782  0.02221903\n",
            "    0.00964294  0.02066569 -0.04676019 -0.00690677 -0.01320447]\n",
            "  [-0.01586975 -0.00314847 -0.01452791 -0.03147782  0.02221903\n",
            "    0.00964294  0.02066569 -0.04676019 -0.00690677 -0.01320447]\n",
            "  [ 0.00510386 -0.03470671 -0.00921223 -0.01848196 -0.04023601\n",
            "    0.02778869  0.04758606  0.01010995  0.01722357  0.04992983]\n",
            "  [-0.03250102  0.01895121 -0.01518788  0.03823992 -0.03145663\n",
            "   -0.04306863  0.01822362  0.00688894  0.00750854  0.03512252]\n",
            "  [-0.03229816 -0.04915435  0.00299799  0.01859942  0.04106892\n",
            "    0.03087309  0.00541464  0.02635953  0.03783841 -0.015142  ]\n",
            "  [-0.01082889  0.01607699  0.04191497 -0.00446404  0.02843269\n",
            "    0.01548764 -0.01330088  0.00213488  0.0419492  -0.03052703]]\n",
            "\n",
            " [[-0.01586975 -0.00314847 -0.01452791 -0.03147782  0.02221903\n",
            "    0.00964294  0.02066569 -0.04676019 -0.00690677 -0.01320447]\n",
            "  [-0.01586975 -0.00314847 -0.01452791 -0.03147782  0.02221903\n",
            "    0.00964294  0.02066569 -0.04676019 -0.00690677 -0.01320447]\n",
            "  [-0.01586975 -0.00314847 -0.01452791 -0.03147782  0.02221903\n",
            "    0.00964294  0.02066569 -0.04676019 -0.00690677 -0.01320447]\n",
            "  [-0.01586975 -0.00314847 -0.01452791 -0.03147782  0.02221903\n",
            "    0.00964294  0.02066569 -0.04676019 -0.00690677 -0.01320447]\n",
            "  [ 0.00510386 -0.03470671 -0.00921223 -0.01848196 -0.04023601\n",
            "    0.02778869  0.04758606  0.01010995  0.01722357  0.04992983]\n",
            "  [-0.03250102  0.01895121 -0.01518788  0.03823992 -0.03145663\n",
            "   -0.04306863  0.01822362  0.00688894  0.00750854  0.03512252]\n",
            "  [-0.03229816 -0.04915435  0.00299799  0.01859942  0.04106892\n",
            "    0.03087309  0.00541464  0.02635953  0.03783841 -0.015142  ]\n",
            "  [ 0.01603869 -0.01628049 -0.02778214 -0.01155276  0.0045322\n",
            "    0.01502589 -0.0366168   0.03025937 -0.0309088  -0.02437973]]\n",
            "\n",
            " [[-0.01586975 -0.00314847 -0.01452791 -0.03147782  0.02221903\n",
            "    0.00964294  0.02066569 -0.04676019 -0.00690677 -0.01320447]\n",
            "  [-0.01586975 -0.00314847 -0.01452791 -0.03147782  0.02221903\n",
            "    0.00964294  0.02066569 -0.04676019 -0.00690677 -0.01320447]\n",
            "  [-0.01586975 -0.00314847 -0.01452791 -0.03147782  0.02221903\n",
            "    0.00964294  0.02066569 -0.04676019 -0.00690677 -0.01320447]\n",
            "  [-0.01586975 -0.00314847 -0.01452791 -0.03147782  0.02221903\n",
            "    0.00964294  0.02066569 -0.04676019 -0.00690677 -0.01320447]\n",
            "  [ 0.00510386 -0.03470671 -0.00921223 -0.01848196 -0.04023601\n",
            "    0.02778869  0.04758606  0.01010995  0.01722357  0.04992983]\n",
            "  [ 0.04695579 -0.02814721  0.03386065  0.03234169  0.04484575\n",
            "    0.04442719  0.00928757  0.00485901 -0.00393174  0.01072373]\n",
            "  [-0.03229816 -0.04915435  0.00299799  0.01859942  0.04106892\n",
            "    0.03087309  0.00541464  0.02635953  0.03783841 -0.015142  ]\n",
            "  [ 0.01895657 -0.00991644 -0.02328262 -0.00975657  0.02791134\n",
            "   -0.04295068 -0.02081439  0.04316858 -0.0014896   0.04384272]]\n",
            "\n",
            " [[-0.01586975 -0.00314847 -0.01452791 -0.03147782  0.02221903\n",
            "    0.00964294  0.02066569 -0.04676019 -0.00690677 -0.01320447]\n",
            "  [-0.01586975 -0.00314847 -0.01452791 -0.03147782  0.02221903\n",
            "    0.00964294  0.02066569 -0.04676019 -0.00690677 -0.01320447]\n",
            "  [-0.01586975 -0.00314847 -0.01452791 -0.03147782  0.02221903\n",
            "    0.00964294  0.02066569 -0.04676019 -0.00690677 -0.01320447]\n",
            "  [ 0.01056484  0.00420209 -0.00248424 -0.03570082  0.03789752\n",
            "    0.00091882  0.01825375 -0.00756187  0.01145445 -0.01678025]\n",
            "  [ 0.04734267  0.03561257 -0.00473826 -0.03723217  0.03878024\n",
            "   -0.00806047  0.00358207 -0.03764757 -0.03030027  0.03717648]\n",
            "  [ 0.01652204 -0.0405766   0.04303748  0.02456662 -0.03130043\n",
            "    0.02019903  0.02329028 -0.01532155 -0.00011911  0.04893321]\n",
            "  [-0.03102653 -0.04989938  0.01509914 -0.04450487  0.04240084\n",
            "    0.01348628  0.01863027 -0.02776444  0.01875966  0.04078611]\n",
            "  [ 0.04297787 -0.04431806 -0.04502494 -0.04595758 -0.00602201\n",
            "   -0.04265561 -0.04909141 -0.01039124 -0.03750076  0.00319318]]\n",
            "\n",
            " [[-0.01586975 -0.00314847 -0.01452791 -0.03147782  0.02221903\n",
            "    0.00964294  0.02066569 -0.04676019 -0.00690677 -0.01320447]\n",
            "  [-0.01586975 -0.00314847 -0.01452791 -0.03147782  0.02221903\n",
            "    0.00964294  0.02066569 -0.04676019 -0.00690677 -0.01320447]\n",
            "  [-0.01586975 -0.00314847 -0.01452791 -0.03147782  0.02221903\n",
            "    0.00964294  0.02066569 -0.04676019 -0.00690677 -0.01320447]\n",
            "  [ 0.01056484  0.00420209 -0.00248424 -0.03570082  0.03789752\n",
            "    0.00091882  0.01825375 -0.00756187  0.01145445 -0.01678025]\n",
            "  [ 0.04734267  0.03561257 -0.00473826 -0.03723217  0.03878024\n",
            "   -0.00806047  0.00358207 -0.03764757 -0.03030027  0.03717648]\n",
            "  [ 0.01652204 -0.0405766   0.04303748  0.02456662 -0.03130043\n",
            "    0.02019903  0.02329028 -0.01532155 -0.00011911  0.04893321]\n",
            "  [-0.03102653 -0.04989938  0.01509914 -0.04450487  0.04240084\n",
            "    0.01348628  0.01863027 -0.02776444  0.01875966  0.04078611]\n",
            "  [ 0.00996661  0.00414602  0.02346006  0.04705447  0.03170021\n",
            "   -0.01765836  0.04019928  0.00871646 -0.04430503 -0.01551785]]\n",
            "\n",
            " [[-0.01586975 -0.00314847 -0.01452791 -0.03147782  0.02221903\n",
            "    0.00964294  0.02066569 -0.04676019 -0.00690677 -0.01320447]\n",
            "  [-0.01586975 -0.00314847 -0.01452791 -0.03147782  0.02221903\n",
            "    0.00964294  0.02066569 -0.04676019 -0.00690677 -0.01320447]\n",
            "  [-0.01586975 -0.00314847 -0.01452791 -0.03147782  0.02221903\n",
            "    0.00964294  0.02066569 -0.04676019 -0.00690677 -0.01320447]\n",
            "  [-0.03470399 -0.01032959  0.04975951 -0.00854534 -0.02461575\n",
            "    0.03152436  0.03436207 -0.01193751 -0.0395097  -0.01342871]\n",
            "  [ 0.00510386 -0.03470671 -0.00921223 -0.01848196 -0.04023601\n",
            "    0.02778869  0.04758606  0.01010995  0.01722357  0.04992983]\n",
            "  [-0.00209508 -0.02622473  0.02853861 -0.04043076 -0.03534112\n",
            "   -0.00920117  0.02028697 -0.04276871 -0.04810363 -0.00403323]\n",
            "  [-0.03229816 -0.04915435  0.00299799  0.01859942  0.04106892\n",
            "    0.03087309  0.00541464  0.02635953  0.03783841 -0.015142  ]\n",
            "  [ 0.01823881 -0.02838464  0.04224275 -0.02422274 -0.01677251\n",
            "   -0.03787873  0.02948267  0.03955293  0.03464084 -0.01770145]]\n",
            "\n",
            " [[-0.01586975 -0.00314847 -0.01452791 -0.03147782  0.02221903\n",
            "    0.00964294  0.02066569 -0.04676019 -0.00690677 -0.01320447]\n",
            "  [-0.01586975 -0.00314847 -0.01452791 -0.03147782  0.02221903\n",
            "    0.00964294  0.02066569 -0.04676019 -0.00690677 -0.01320447]\n",
            "  [-0.01586975 -0.00314847 -0.01452791 -0.03147782  0.02221903\n",
            "    0.00964294  0.02066569 -0.04676019 -0.00690677 -0.01320447]\n",
            "  [-0.01586975 -0.00314847 -0.01452791 -0.03147782  0.02221903\n",
            "    0.00964294  0.02066569 -0.04676019 -0.00690677 -0.01320447]\n",
            "  [ 0.02008103  0.01426549  0.04888493  0.03718407  0.0422161\n",
            "   -0.0115658   0.04965997  0.02473272 -0.02392392  0.04846809]\n",
            "  [ 0.04586713  0.0279981   0.00857276 -0.03551376 -0.03484084\n",
            "    0.0254506   0.03485337  0.02510707 -0.03273299 -0.03698834]\n",
            "  [-0.01116117 -0.02108156 -0.03717742  0.00862713 -0.00118773\n",
            "    0.03401499  0.03968641  0.03085307 -0.0204852   0.03657097]\n",
            "  [-0.03102653 -0.04989938  0.01509914 -0.04450487  0.04240084\n",
            "    0.01348628  0.01863027 -0.02776444  0.01875966  0.04078611]]]\n"
          ]
        }
      ]
    },
    {
      "cell_type": "code",
      "source": [
        "embedded_docs[0]"
      ],
      "metadata": {
        "colab": {
          "base_uri": "https://localhost:8080/"
        },
        "id": "WWTpJ_390pIR",
        "outputId": "c715e186-1477-4b2b-a488-de987f1cbf03"
      },
      "execution_count": 14,
      "outputs": [
        {
          "output_type": "execute_result",
          "data": {
            "text/plain": [
              "array([   0,    0,    0,    0, 3221, 1753, 9368, 9141], dtype=int32)"
            ]
          },
          "metadata": {},
          "execution_count": 14
        }
      ]
    },
    {
      "cell_type": "code",
      "source": [
        "print(model.predict(embedded_docs)[0])"
      ],
      "metadata": {
        "colab": {
          "base_uri": "https://localhost:8080/"
        },
        "id": "wYAi-avC0tJk",
        "outputId": "1062a1ad-a872-429c-aa79-f7c43a801c93"
      },
      "execution_count": 15,
      "outputs": [
        {
          "output_type": "stream",
          "name": "stdout",
          "text": [
            "[[-0.01586975 -0.00314847 -0.01452791 -0.03147782  0.02221903  0.00964294\n",
            "   0.02066569 -0.04676019 -0.00690677 -0.01320447]\n",
            " [-0.01586975 -0.00314847 -0.01452791 -0.03147782  0.02221903  0.00964294\n",
            "   0.02066569 -0.04676019 -0.00690677 -0.01320447]\n",
            " [-0.01586975 -0.00314847 -0.01452791 -0.03147782  0.02221903  0.00964294\n",
            "   0.02066569 -0.04676019 -0.00690677 -0.01320447]\n",
            " [-0.01586975 -0.00314847 -0.01452791 -0.03147782  0.02221903  0.00964294\n",
            "   0.02066569 -0.04676019 -0.00690677 -0.01320447]\n",
            " [ 0.00510386 -0.03470671 -0.00921223 -0.01848196 -0.04023601  0.02778869\n",
            "   0.04758606  0.01010995  0.01722357  0.04992983]\n",
            " [-0.03250102  0.01895121 -0.01518788  0.03823992 -0.03145663 -0.04306863\n",
            "   0.01822362  0.00688894  0.00750854  0.03512252]\n",
            " [-0.03229816 -0.04915435  0.00299799  0.01859942  0.04106892  0.03087309\n",
            "   0.00541464  0.02635953  0.03783841 -0.015142  ]\n",
            " [-0.01082889  0.01607699  0.04191497 -0.00446404  0.02843269  0.01548764\n",
            "  -0.01330088  0.00213488  0.0419492  -0.03052703]]\n"
          ]
        }
      ]
    },
    {
      "cell_type": "code",
      "source": [],
      "metadata": {
        "id": "xILZNNc30uys"
      },
      "execution_count": null,
      "outputs": []
    }
  ]
}